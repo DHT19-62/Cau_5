{
 "cells": [
  {
   "cell_type": "code",
   "execution_count": 1,
   "id": "1629c272-ba5e-44e2-9553-e555827cbe55",
   "metadata": {
    "execution": {
     "iopub.execute_input": "2022-01-02T13:22:19.509286Z",
     "iopub.status.busy": "2022-01-02T13:22:19.508900Z",
     "iopub.status.idle": "2022-01-02T13:22:35.712894Z",
     "shell.execute_reply": "2022-01-02T13:22:35.711876Z",
     "shell.execute_reply.started": "2022-01-02T13:22:19.509246Z"
    },
    "tags": []
   },
   "outputs": [],
   "source": [
    "import pandas as pd\n",
    "import numpy as np\n",
    "import scipy.stats\n",
    "import seaborn as sns\n",
    "import matplotlib.pyplot as plt\n",
    "import warnings\n",
    "warnings.filterwarnings('ignore')"
   ]
  },
  {
   "cell_type": "markdown",
   "id": "d35582e4-1475-4535-b6db-3c8dea99bdb3",
   "metadata": {},
   "source": [
    "### 1. Đọc dữ liệu. Xem thông tin dữ liệu với head, info."
   ]
  },
  {
   "cell_type": "code",
   "execution_count": 2,
   "id": "f3d7ff41-5e82-4683-98d5-be03a5000036",
   "metadata": {
    "execution": {
     "iopub.execute_input": "2022-01-02T13:22:35.715888Z",
     "iopub.status.busy": "2022-01-02T13:22:35.715203Z",
     "iopub.status.idle": "2022-01-02T13:22:36.018982Z",
     "shell.execute_reply": "2022-01-02T13:22:36.017825Z",
     "shell.execute_reply.started": "2022-01-02T13:22:35.715843Z"
    },
    "tags": []
   },
   "outputs": [
    {
     "data": {
      "text/html": [
       "<div>\n",
       "<style scoped>\n",
       "    .dataframe tbody tr th:only-of-type {\n",
       "        vertical-align: middle;\n",
       "    }\n",
       "\n",
       "    .dataframe tbody tr th {\n",
       "        vertical-align: top;\n",
       "    }\n",
       "\n",
       "    .dataframe thead th {\n",
       "        text-align: right;\n",
       "    }\n",
       "</style>\n",
       "<table border=\"1\" class=\"dataframe\">\n",
       "  <thead>\n",
       "    <tr style=\"text-align: right;\">\n",
       "      <th></th>\n",
       "      <th>response_number</th>\n",
       "      <th>knowledge_score</th>\n",
       "      <th>calcium_intake</th>\n",
       "    </tr>\n",
       "  </thead>\n",
       "  <tbody>\n",
       "    <tr>\n",
       "      <th>0</th>\n",
       "      <td>1</td>\n",
       "      <td>1.0</td>\n",
       "      <td>0.450</td>\n",
       "    </tr>\n",
       "    <tr>\n",
       "      <th>1</th>\n",
       "      <td>2</td>\n",
       "      <td>4.2</td>\n",
       "      <td>1.050</td>\n",
       "    </tr>\n",
       "    <tr>\n",
       "      <th>2</th>\n",
       "      <td>3</td>\n",
       "      <td>3.8</td>\n",
       "      <td>0.900</td>\n",
       "    </tr>\n",
       "    <tr>\n",
       "      <th>3</th>\n",
       "      <td>4</td>\n",
       "      <td>1.5</td>\n",
       "      <td>0.525</td>\n",
       "    </tr>\n",
       "    <tr>\n",
       "      <th>4</th>\n",
       "      <td>5</td>\n",
       "      <td>2.2</td>\n",
       "      <td>0.710</td>\n",
       "    </tr>\n",
       "  </tbody>\n",
       "</table>\n",
       "</div>"
      ],
      "text/plain": [
       "   response_number  knowledge_score  calcium_intake\n",
       "0                1              1.0           0.450\n",
       "1                2              4.2           1.050\n",
       "2                3              3.8           0.900\n",
       "3                4              1.5           0.525\n",
       "4                5              2.2           0.710"
      ]
     },
     "execution_count": 2,
     "metadata": {},
     "output_type": "execute_result"
    }
   ],
   "source": [
    "canxi = pd.read_excel(io='Du_lieu_cung_cap/canxi.xlsx', engine='openpyxl')\n",
    "canxi.head()"
   ]
  },
  {
   "cell_type": "code",
   "execution_count": 3,
   "id": "7873a8be-464f-4328-81af-4a1966d3e4d4",
   "metadata": {
    "execution": {
     "iopub.execute_input": "2022-01-02T13:22:36.023232Z",
     "iopub.status.busy": "2022-01-02T13:22:36.022835Z",
     "iopub.status.idle": "2022-01-02T13:22:36.046624Z",
     "shell.execute_reply": "2022-01-02T13:22:36.035919Z",
     "shell.execute_reply.started": "2022-01-02T13:22:36.023184Z"
    },
    "tags": []
   },
   "outputs": [
    {
     "name": "stdout",
     "output_type": "stream",
     "text": [
      "<class 'pandas.core.frame.DataFrame'>\n",
      "RangeIndex: 20 entries, 0 to 19\n",
      "Data columns (total 3 columns):\n",
      " #   Column           Non-Null Count  Dtype  \n",
      "---  ------           --------------  -----  \n",
      " 0   response_number  20 non-null     int64  \n",
      " 1   knowledge_score  20 non-null     float64\n",
      " 2   calcium_intake   20 non-null     float64\n",
      "dtypes: float64(2), int64(1)\n",
      "memory usage: 608.0 bytes\n"
     ]
    }
   ],
   "source": [
    "canxi.info()"
   ]
  },
  {
   "cell_type": "markdown",
   "id": "30bb8452-b166-4cf2-b2c9-3a5d296e5830",
   "metadata": {
    "execution": {
     "iopub.execute_input": "2021-12-31T08:59:55.305146Z",
     "iopub.status.busy": "2021-12-31T08:59:55.304900Z",
     "iopub.status.idle": "2021-12-31T08:59:55.312569Z",
     "shell.execute_reply": "2021-12-31T08:59:55.308283Z",
     "shell.execute_reply.started": "2021-12-31T08:59:55.305122Z"
    }
   },
   "source": [
    "### 2. Vẽ biểu đồ phân phối tần suất của knowledge_score."
   ]
  },
  {
   "cell_type": "code",
   "execution_count": 4,
   "id": "234b8085-5d12-42f9-a090-6d3745f98714",
   "metadata": {
    "execution": {
     "iopub.execute_input": "2022-01-02T13:22:36.056987Z",
     "iopub.status.busy": "2022-01-02T13:22:36.056541Z",
     "iopub.status.idle": "2022-01-02T13:22:36.299737Z",
     "shell.execute_reply": "2022-01-02T13:22:36.299115Z",
     "shell.execute_reply.started": "2022-01-02T13:22:36.056933Z"
    },
    "tags": []
   },
   "outputs": [
    {
     "data": {
      "image/png": "[encoded data removed]",
      "text/plain": [
       "<Figure size 432x288 with 1 Axes>"
      ]
     },
     "metadata": {
      "needs_background": "light"
     },
     "output_type": "display_data"
    }
   ],
   "source": [
    "sns.distplot(canxi.knowledge_score)\n",
    "plt.show()"
   ]
  },
  {
   "cell_type": "markdown",
   "id": "d1923367-f3ab-45b5-b5a2-8a5e27decf2a",
   "metadata": {},
   "source": [
    "Nhận xét: knowledge_score tuân theo phân phối chuẩn"
   ]
  },
  {
   "cell_type": "markdown",
   "id": "c6fb7b34-ccaa-4063-8f52-fbe5091e45e2",
   "metadata": {},
   "source": [
    "### 3. Thực hiện các thống kê cơ bản cho knowledge_score và calcium_intake (mean, median, mode, max, min, range)"
   ]
  },
  {
   "cell_type": "code",
   "execution_count": 5,
   "id": "ffead3a8-0228-4426-b6ed-e8122db7c17b",
   "metadata": {
    "execution": {
     "iopub.execute_input": "2022-01-02T13:22:36.302262Z",
     "iopub.status.busy": "2022-01-02T13:22:36.301623Z",
     "iopub.status.idle": "2022-01-02T13:22:36.318374Z",
     "shell.execute_reply": "2022-01-02T13:22:36.316615Z",
     "shell.execute_reply.started": "2022-01-02T13:22:36.302221Z"
    },
    "tags": []
   },
   "outputs": [
    {
     "data": {
      "text/html": [
       "<div>\n",
       "<style scoped>\n",
       "    .dataframe tbody tr th:only-of-type {\n",
       "        vertical-align: middle;\n",
       "    }\n",
       "\n",
       "    .dataframe tbody tr th {\n",
       "        vertical-align: top;\n",
       "    }\n",
       "\n",
       "    .dataframe thead th {\n",
       "        text-align: right;\n",
       "    }\n",
       "</style>\n",
       "<table border=\"1\" class=\"dataframe\">\n",
       "  <thead>\n",
       "    <tr style=\"text-align: right;\">\n",
       "      <th></th>\n",
       "      <th>knowledge_score</th>\n",
       "      <th>calcium_intake</th>\n",
       "    </tr>\n",
       "  </thead>\n",
       "  <tbody>\n",
       "    <tr>\n",
       "      <th>0</th>\n",
       "      <td>1.0</td>\n",
       "      <td>0.450</td>\n",
       "    </tr>\n",
       "    <tr>\n",
       "      <th>1</th>\n",
       "      <td>4.2</td>\n",
       "      <td>1.050</td>\n",
       "    </tr>\n",
       "    <tr>\n",
       "      <th>2</th>\n",
       "      <td>3.8</td>\n",
       "      <td>0.900</td>\n",
       "    </tr>\n",
       "    <tr>\n",
       "      <th>3</th>\n",
       "      <td>1.5</td>\n",
       "      <td>0.525</td>\n",
       "    </tr>\n",
       "    <tr>\n",
       "      <th>4</th>\n",
       "      <td>2.2</td>\n",
       "      <td>0.710</td>\n",
       "    </tr>\n",
       "  </tbody>\n",
       "</table>\n",
       "</div>"
      ],
      "text/plain": [
       "   knowledge_score  calcium_intake\n",
       "0              1.0           0.450\n",
       "1              4.2           1.050\n",
       "2              3.8           0.900\n",
       "3              1.5           0.525\n",
       "4              2.2           0.710"
      ]
     },
     "execution_count": 5,
     "metadata": {},
     "output_type": "execute_result"
    }
   ],
   "source": [
    "temp = canxi[['knowledge_score','calcium_intake']]\n",
    "temp.head()"
   ]
  },
  {
   "cell_type": "code",
   "execution_count": 6,
   "id": "b117d62c-d24a-4676-ad9a-612537e8e1dc",
   "metadata": {
    "execution": {
     "iopub.execute_input": "2022-01-02T13:22:36.321019Z",
     "iopub.status.busy": "2022-01-02T13:22:36.320590Z",
     "iopub.status.idle": "2022-01-02T13:22:36.350689Z",
     "shell.execute_reply": "2022-01-02T13:22:36.349549Z",
     "shell.execute_reply.started": "2022-01-02T13:22:36.320982Z"
    },
    "tags": []
   },
   "outputs": [
    {
     "data": {
      "text/html": [
       "<div>\n",
       "<style scoped>\n",
       "    .dataframe tbody tr th:only-of-type {\n",
       "        vertical-align: middle;\n",
       "    }\n",
       "\n",
       "    .dataframe tbody tr th {\n",
       "        vertical-align: top;\n",
       "    }\n",
       "\n",
       "    .dataframe thead th {\n",
       "        text-align: right;\n",
       "    }\n",
       "</style>\n",
       "<table border=\"1\" class=\"dataframe\">\n",
       "  <thead>\n",
       "    <tr style=\"text-align: right;\">\n",
       "      <th></th>\n",
       "      <th>knowledge_score</th>\n",
       "      <th>calcium_intake</th>\n",
       "    </tr>\n",
       "  </thead>\n",
       "  <tbody>\n",
       "    <tr>\n",
       "      <th>mean</th>\n",
       "      <td>2.96</td>\n",
       "      <td>0.7851</td>\n",
       "    </tr>\n",
       "    <tr>\n",
       "      <th>median</th>\n",
       "      <td>2.90</td>\n",
       "      <td>0.7990</td>\n",
       "    </tr>\n",
       "    <tr>\n",
       "      <th>max</th>\n",
       "      <td>4.80</td>\n",
       "      <td>1.0850</td>\n",
       "    </tr>\n",
       "    <tr>\n",
       "      <th>min</th>\n",
       "      <td>1.00</td>\n",
       "      <td>0.4500</td>\n",
       "    </tr>\n",
       "  </tbody>\n",
       "</table>\n",
       "</div>"
      ],
      "text/plain": [
       "        knowledge_score  calcium_intake\n",
       "mean               2.96          0.7851\n",
       "median             2.90          0.7990\n",
       "max                4.80          1.0850\n",
       "min                1.00          0.4500"
      ]
     },
     "execution_count": 6,
     "metadata": {},
     "output_type": "execute_result"
    }
   ],
   "source": [
    "temp.agg(['mean', 'median', 'max', 'min'])"
   ]
  },
  {
   "cell_type": "code",
   "execution_count": 7,
   "id": "db591601-1aca-49aa-926b-08af9bddba16",
   "metadata": {
    "execution": {
     "iopub.execute_input": "2022-01-02T13:22:36.354121Z",
     "iopub.status.busy": "2022-01-02T13:22:36.352870Z",
     "iopub.status.idle": "2022-01-02T13:22:36.364230Z",
     "shell.execute_reply": "2022-01-02T13:22:36.362113Z",
     "shell.execute_reply.started": "2022-01-02T13:22:36.354076Z"
    },
    "tags": []
   },
   "outputs": [
    {
     "data": {
      "text/plain": [
       "3.8"
      ]
     },
     "execution_count": 7,
     "metadata": {},
     "output_type": "execute_result"
    }
   ],
   "source": [
    "# range knowledge_score\n",
    "np.ptp(temp.knowledge_score.values)"
   ]
  },
  {
   "cell_type": "code",
   "execution_count": 8,
   "id": "0464d8c3-66d2-4c41-b834-81942c6bfc32",
   "metadata": {
    "execution": {
     "iopub.execute_input": "2022-01-02T13:22:36.375230Z",
     "iopub.status.busy": "2022-01-02T13:22:36.374628Z",
     "iopub.status.idle": "2022-01-02T13:22:36.388059Z",
     "shell.execute_reply": "2022-01-02T13:22:36.386866Z",
     "shell.execute_reply.started": "2022-01-02T13:22:36.375191Z"
    },
    "tags": []
   },
   "outputs": [
    {
     "data": {
      "text/plain": [
       "0.635"
      ]
     },
     "execution_count": 8,
     "metadata": {},
     "output_type": "execute_result"
    }
   ],
   "source": [
    "# range calcium_intake\n",
    "np.ptp(temp.calcium_intake.values)"
   ]
  },
  {
   "cell_type": "code",
   "execution_count": 9,
   "id": "8613adc9-d2b2-4896-900a-66f5a2d80cfe",
   "metadata": {
    "execution": {
     "iopub.execute_input": "2022-01-02T13:22:36.394582Z",
     "iopub.status.busy": "2022-01-02T13:22:36.392937Z",
     "iopub.status.idle": "2022-01-02T13:22:36.404006Z",
     "shell.execute_reply": "2022-01-02T13:22:36.403114Z",
     "shell.execute_reply.started": "2022-01-02T13:22:36.394537Z"
    },
    "tags": []
   },
   "outputs": [
    {
     "data": {
      "text/plain": [
       "ModeResult(mode=array([2.2]), count=array([2]))"
      ]
     },
     "execution_count": 9,
     "metadata": {},
     "output_type": "execute_result"
    }
   ],
   "source": [
    "scipy.stats.mode(temp.knowledge_score.values)"
   ]
  },
  {
   "cell_type": "code",
   "execution_count": 10,
   "id": "243d987f-350c-409d-a84c-aafbb53d7943",
   "metadata": {
    "execution": {
     "iopub.execute_input": "2022-01-02T13:22:36.406190Z",
     "iopub.status.busy": "2022-01-02T13:22:36.405895Z",
     "iopub.status.idle": "2022-01-02T13:22:36.421831Z",
     "shell.execute_reply": "2022-01-02T13:22:36.420991Z",
     "shell.execute_reply.started": "2022-01-02T13:22:36.406155Z"
    },
    "tags": []
   },
   "outputs": [
    {
     "data": {
      "text/plain": [
       "ModeResult(mode=array([0.45]), count=array([1]))"
      ]
     },
     "execution_count": 10,
     "metadata": {},
     "output_type": "execute_result"
    }
   ],
   "source": [
    "scipy.stats.mode(temp.calcium_intake.values)"
   ]
  },
  {
   "cell_type": "markdown",
   "id": "c2f371b9-e090-4529-9d48-f976568fe6e9",
   "metadata": {},
   "source": [
    "### 4. Cho biết các giá trị ở phân vị thứ 20, 35, 65 và 90 của calcium_intake. Biểu diễn phân vị và giá trị tương ứng trên biểu đồ."
   ]
  },
  {
   "cell_type": "code",
   "execution_count": 11,
   "id": "135a1927-02c1-4fad-886d-838fce2f7764",
   "metadata": {
    "execution": {
     "iopub.execute_input": "2022-01-02T13:22:36.424245Z",
     "iopub.status.busy": "2022-01-02T13:22:36.423657Z",
     "iopub.status.idle": "2022-01-02T13:22:36.623245Z",
     "shell.execute_reply": "2022-01-02T13:22:36.622585Z",
     "shell.execute_reply.started": "2022-01-02T13:22:36.424206Z"
    },
    "tags": []
   },
   "outputs": [
    {
     "data": {
      "image/png": "[encoded data removed]",
      "text/plain": [
       "<Figure size 432x288 with 1 Axes>"
      ]
     },
     "metadata": {
      "needs_background": "light"
     },
     "output_type": "display_data"
    },
    {
     "data": {
      "text/plain": [
       "(None, array([2.12 , 2.465, 3.41 , 4.32 ]))"
      ]
     },
     "execution_count": 11,
     "metadata": {},
     "output_type": "execute_result"
    }
   ],
   "source": [
    "percentiles = np.array([20, 35, 65, 90])\n",
    "x = np.percentile(temp.knowledge_score.values, percentiles)\n",
    "plt.scatter(x, percentiles/100, marker='D')\n",
    "plt.show(), x"
   ]
  },
  {
   "cell_type": "markdown",
   "id": "f0209d3b-5033-45f5-a687-03bf0a698d0d",
   "metadata": {},
   "source": [
    "### 5. Vẽ boxplot cho knowledge_score và cho calcium_intake."
   ]
  },
  {
   "cell_type": "code",
   "execution_count": 12,
   "id": "c4a3bcbb-97cd-4b87-99cb-f1c24784f0e6",
   "metadata": {
    "execution": {
     "iopub.execute_input": "2022-01-02T13:22:36.625066Z",
     "iopub.status.busy": "2022-01-02T13:22:36.624581Z",
     "iopub.status.idle": "2022-01-02T13:22:36.751691Z",
     "shell.execute_reply": "2022-01-02T13:22:36.750919Z",
     "shell.execute_reply.started": "2022-01-02T13:22:36.625024Z"
    },
    "tags": []
   },
   "outputs": [
    {
     "data": {
      "image/png": "[encoded data removed]",
      "text/plain": [
       "<Figure size 432x288 with 1 Axes>"
      ]
     },
     "metadata": {
      "needs_background": "light"
     },
     "output_type": "display_data"
    }
   ],
   "source": [
    "sns.boxplot(data=temp)\n",
    "plt.show()"
   ]
  },
  {
   "cell_type": "markdown",
   "id": "9a8cfbb6-075d-4fe3-b4bf-1691528059b8",
   "metadata": {},
   "source": [
    "### 6. Tìm phương sai (variance) của knowledge_score."
   ]
  },
  {
   "cell_type": "code",
   "execution_count": 13,
   "id": "a5f1f2e3-b436-40d3-997a-e90f9b9205c5",
   "metadata": {
    "execution": {
     "iopub.execute_input": "2022-01-02T13:22:36.754836Z",
     "iopub.status.busy": "2022-01-02T13:22:36.753991Z",
     "iopub.status.idle": "2022-01-02T13:22:36.762633Z",
     "shell.execute_reply": "2022-01-02T13:22:36.761440Z",
     "shell.execute_reply.started": "2022-01-02T13:22:36.754788Z"
    }
   },
   "outputs": [
    {
     "data": {
      "text/plain": [
       "1.1643999999999999"
      ]
     },
     "execution_count": 13,
     "metadata": {},
     "output_type": "execute_result"
    }
   ],
   "source": [
    "np.var(canxi.knowledge_score)"
   ]
  },
  {
   "cell_type": "markdown",
   "id": "a2565122-aa8e-439a-9391-a530dc617120",
   "metadata": {},
   "source": [
    "### 7. Tìm độ lệch chuẩn (Standard deviation) của calcium_intake."
   ]
  },
  {
   "cell_type": "code",
   "execution_count": null,
   "id": "0f9e517e-0e74-441d-8fe3-1ab3dc97f233",
   "metadata": {
    "execution": {
     "iopub.execute_input": "2022-01-02T13:22:36.766568Z",
     "iopub.status.busy": "2022-01-02T13:22:36.764957Z",
     "iopub.status.idle": "2022-01-02T13:22:36.774574Z",
     "shell.execute_reply": "2022-01-02T13:22:36.773459Z",
     "shell.execute_reply.started": "2022-01-02T13:22:36.766369Z"
    }
   },
   "outputs": [
    {
     "data": {
      "text/plain": [
       "0.1743903365260937"
      ]
     },
     "execution_count": 14,
     "metadata": {},
     "output_type": "execute_result"
    }
   ],
   "source": [
    "canxi.calcium_intake.std()"
   ]
  },
  {
   "cell_type": "markdown",
   "id": "7d346e7f-5387-4594-a5dd-0d8275ae21eb",
   "metadata": {},
   "source": [
    "### 8. Tìm độ xiên (Skewness) của knowledge_score. Nhận xét kết quả."
   ]
  },
  {
   "cell_type": "code",
   "execution_count": 15,
   "id": "5df03751-064b-4ab2-b415-d17836e272c8",
   "metadata": {
    "execution": {
     "iopub.execute_input": "2022-01-02T13:22:36.777973Z",
     "iopub.status.busy": "2022-01-02T13:22:36.777581Z",
     "iopub.status.idle": "2022-01-02T13:22:36.787889Z",
     "shell.execute_reply": "2022-01-02T13:22:36.785053Z",
     "shell.execute_reply.started": "2022-01-02T13:22:36.777937Z"
    }
   },
   "outputs": [
    {
     "data": {
      "text/plain": [
       "-0.028794959699455863"
      ]
     },
     "execution_count": 15,
     "metadata": {},
     "output_type": "execute_result"
    }
   ],
   "source": [
    "canxi.knowledge_score.skew()"
   ]
  },
  {
   "cell_type": "markdown",
   "id": "a1305e5c-049e-4a00-b971-d0749ddcd552",
   "metadata": {},
   "source": [
    "Nhận xét: Phân phối lệch phải."
   ]
  },
  {
   "cell_type": "markdown",
   "id": "df861f8e-c3b2-48e6-b301-170ff7c360e5",
   "metadata": {},
   "source": [
    "### 9. Tìm độ nhọn (Kurtosis) của knowledge_score. Nhận xét kết quả."
   ]
  },
  {
   "cell_type": "code",
   "execution_count": 16,
   "id": "5fc43265-be79-4f57-9d2e-ee90d036c1b9",
   "metadata": {
    "execution": {
     "iopub.execute_input": "2022-01-02T13:22:36.792057Z",
     "iopub.status.busy": "2022-01-02T13:22:36.791532Z",
     "iopub.status.idle": "2022-01-02T13:22:36.808523Z",
     "shell.execute_reply": "2022-01-02T13:22:36.806302Z",
     "shell.execute_reply.started": "2022-01-02T13:22:36.792019Z"
    }
   },
   "outputs": [
    {
     "data": {
      "text/plain": [
       "-1.0046176484575784"
      ]
     },
     "execution_count": 16,
     "metadata": {},
     "output_type": "execute_result"
    }
   ],
   "source": [
    "canxi.knowledge_score.kurtosis()"
   ]
  },
  {
   "cell_type": "markdown",
   "id": "cefa1ae7-c27b-4a10-9216-e864e3938a77",
   "metadata": {
    "execution": {
     "iopub.execute_input": "2022-01-03T01:56:37.416962Z",
     "iopub.status.busy": "2022-01-03T01:56:37.416348Z",
     "iopub.status.idle": "2022-01-03T01:56:37.446280Z",
     "shell.execute_reply": "2022-01-03T01:56:37.432091Z",
     "shell.execute_reply.started": "2022-01-03T01:56:37.416916Z"
    }
   },
   "source": [
    "Nhận xét: phân phối tập trung kém mức bình thường, đỉnh của đồ thị hình chuông của phân phối thấp và tù hơn, với 2 đuôi dài hơn."
   ]
  },
  {
   "cell_type": "markdown",
   "id": "476d1cd5-b7b4-4ec9-8f39-be20fa6e6815",
   "metadata": {},
   "source": [
    "### 10. Cho biết số lượng mẫu có giá trị calxium_intake lớn hơn 0.75, xác suất các mẫu có calxium_intake lớn hơn 0.75 là bao nhiêu? Nhận xét."
   ]
  },
  {
   "cell_type": "code",
   "execution_count": 17,
   "id": "edf4a582-95d6-4126-a79f-71c88571134a",
   "metadata": {
    "execution": {
     "iopub.execute_input": "2022-01-02T13:22:36.816715Z",
     "iopub.status.busy": "2022-01-02T13:22:36.815650Z",
     "iopub.status.idle": "2022-01-02T13:22:36.846426Z",
     "shell.execute_reply": "2022-01-02T13:22:36.845266Z",
     "shell.execute_reply.started": "2022-01-02T13:22:36.816616Z"
    },
    "tags": []
   },
   "outputs": [
    {
     "data": {
      "text/plain": [
       "-0.20127262037107177"
      ]
     },
     "execution_count": 17,
     "metadata": {},
     "output_type": "execute_result"
    }
   ],
   "source": [
    "z = (0.75 - canxi.calcium_intake.mean())/canxi.calcium_intake.std()\n",
    "z"
   ]
  },
  {
   "cell_type": "code",
   "execution_count": null,
   "id": "4084445e-02ba-47c6-aa94-6fe6d979f4e9",
   "metadata": {
    "execution": {
     "iopub.execute_input": "2022-01-02T13:22:36.849019Z",
     "iopub.status.busy": "2022-01-02T13:22:36.848557Z",
     "iopub.status.idle": "2022-01-02T13:22:36.860227Z",
     "shell.execute_reply": "2022-01-02T13:22:36.859310Z",
     "shell.execute_reply.started": "2022-01-02T13:22:36.848984Z"
    },
    "tags": []
   },
   "outputs": [
    {
     "data": {
      "text/plain": [
       "0.579757294876672"
      ]
     },
     "execution_count": 18,
     "metadata": {},
     "output_type": "execute_result"
    }
   ],
   "source": [
    "# xác suất các mẫu có calxium_intake lớn hơn 0.75 P(x>0.75) = 1-P(X<0.75)\n",
    "1 - scipy.stats.norm.cdf(z)"
   ]
  },
  {
   "cell_type": "markdown",
   "id": "fc473706-0403-4d45-8f22-b3ace74a3392",
   "metadata": {},
   "source": [
    "Nhận xét: từ xác xuất vừa tính ta có thể suy luận được có khoảng 57.9% người có chỉ số calxium_intake lớn hơn 0.75 trong tập dữ liệu"
   ]
  },
  {
   "cell_type": "markdown",
   "id": "3ec68ea6-890d-436e-a0f9-39bfc82b1826",
   "metadata": {},
   "source": [
    "### 11. Tìm xác suất của P(0.65 ≤ calcium_intake ≤ 0.85). Nhận xét."
   ]
  },
  {
   "cell_type": "code",
   "execution_count": 19,
   "id": "85f507c5-d14b-4767-a94a-daffed259ae9",
   "metadata": {
    "execution": {
     "iopub.execute_input": "2022-01-02T13:22:36.862962Z",
     "iopub.status.busy": "2022-01-02T13:22:36.861976Z",
     "iopub.status.idle": "2022-01-02T13:22:36.876254Z",
     "shell.execute_reply": "2022-01-02T13:22:36.874185Z",
     "shell.execute_reply.started": "2022-01-02T13:22:36.862866Z"
    }
   },
   "outputs": [
    {
     "data": {
      "text/plain": [
       "-0.7746988892345255"
      ]
     },
     "execution_count": 19,
     "metadata": {},
     "output_type": "execute_result"
    }
   ],
   "source": [
    "z_065 = (0.65 - canxi.calcium_intake.mean())/canxi.calcium_intake.std()\n",
    "z_065"
   ]
  },
  {
   "cell_type": "code",
   "execution_count": 20,
   "id": "94226d4c-fc37-4e34-b563-ee553da5fdc9",
   "metadata": {
    "execution": {
     "iopub.execute_input": "2022-01-02T13:22:36.878916Z",
     "iopub.status.busy": "2022-01-02T13:22:36.878518Z",
     "iopub.status.idle": "2022-01-02T13:22:36.895243Z",
     "shell.execute_reply": "2022-01-02T13:22:36.894101Z",
     "shell.execute_reply.started": "2022-01-02T13:22:36.878863Z"
    }
   },
   "outputs": [
    {
     "data": {
      "text/plain": [
       "0.3721536484923819"
      ]
     },
     "execution_count": 20,
     "metadata": {},
     "output_type": "execute_result"
    }
   ],
   "source": [
    "z_085 = (0.85 - canxi.calcium_intake.mean())/canxi.calcium_intake.std()\n",
    "z_085"
   ]
  },
  {
   "cell_type": "code",
   "execution_count": null,
   "id": "ee0a1580-4cff-4944-89ad-dd8c2357ceaf",
   "metadata": {
    "execution": {
     "iopub.execute_input": "2022-01-02T13:22:36.898407Z",
     "iopub.status.busy": "2022-01-02T13:22:36.897934Z",
     "iopub.status.idle": "2022-01-02T13:22:36.914725Z",
     "shell.execute_reply": "2022-01-02T13:22:36.913264Z",
     "shell.execute_reply.started": "2022-01-02T13:22:36.898368Z"
    }
   },
   "outputs": [
    {
     "data": {
      "text/plain": [
       "0.42585196895980504"
      ]
     },
     "execution_count": 21,
     "metadata": {},
     "output_type": "execute_result"
    }
   ],
   "source": [
    "# P(0.65 < X < 0.85) = P(X<0.85)-P(X<0.65)\n",
    "scipy.stats.norm.cdf(z_085) - scipy.stats.norm.cdf(z_065)"
   ]
  },
  {
   "cell_type": "markdown",
   "id": "6674e8c8-8132-45a4-89fe-a32ae1774703",
   "metadata": {},
   "source": [
    "Nhận xét: từ xác xuất vừa tính ta có thể suy luận được có khoảng 42.6% người có chỉ số 0.65 <= calxium_intake <= 0.85 trong tập dữ liệu"
   ]
  },
  {
   "cell_type": "markdown",
   "id": "c75aaab1-f6c3-44b8-9ca5-5facb6030f03",
   "metadata": {},
   "source": [
    "### 12. Vẽ biểu đồ thể hiện mối quan hệ giữa knowledge_score và calcium_intake. Nhận xét."
   ]
  },
  {
   "cell_type": "code",
   "execution_count": 22,
   "id": "eb3a0460-af8c-4715-8981-7a757dd6ada7",
   "metadata": {
    "execution": {
     "iopub.execute_input": "2022-01-02T13:22:36.917554Z",
     "iopub.status.busy": "2022-01-02T13:22:36.917189Z",
     "iopub.status.idle": "2022-01-02T13:22:37.191483Z",
     "shell.execute_reply": "2022-01-02T13:22:37.190436Z",
     "shell.execute_reply.started": "2022-01-02T13:22:36.917518Z"
    },
    "tags": []
   },
   "outputs": [
    {
     "data": {
      "image/png": "[encoded data removed]",
      "text/plain": [
       "<Figure size 432x288 with 1 Axes>"
      ]
     },
     "metadata": {
      "needs_background": "light"
     },
     "output_type": "display_data"
    }
   ],
   "source": [
    "### 12. Vẽ biểu đồ thể hiện mối quan hệ giữa knowledge_score và calcium_intake. Nhận xét.\n",
    "sns.lineplot(x=canxi.knowledge_score, y=canxi.calcium_intake)\n",
    "plt.show()"
   ]
  },
  {
   "cell_type": "markdown",
   "id": "bfa149d0-bdae-407d-86f0-d201ff364ae4",
   "metadata": {},
   "source": [
    "Nhận xét: Khi knowledge_score tăng thì calcium_intake cũng có xu hướng tăng theo."
   ]
  },
  {
   "cell_type": "markdown",
   "id": "b14caa1b-00a2-4ddd-9902-b5aa01025f33",
   "metadata": {},
   "source": [
    "### 13. Tính giá trị tương quan giữa knowledge_score và calcium_intake."
   ]
  },
  {
   "cell_type": "code",
   "execution_count": 23,
   "id": "f4217c6c-b417-40b2-b21b-e25e1df7ce63",
   "metadata": {
    "execution": {
     "iopub.execute_input": "2022-01-02T13:22:37.199058Z",
     "iopub.status.busy": "2022-01-02T13:22:37.198817Z",
     "iopub.status.idle": "2022-01-02T13:22:37.209398Z",
     "shell.execute_reply": "2022-01-02T13:22:37.208672Z",
     "shell.execute_reply.started": "2022-01-02T13:22:37.199033Z"
    }
   },
   "outputs": [
    {
     "data": {
      "text/html": [
       "<div>\n",
       "<style scoped>\n",
       "    .dataframe tbody tr th:only-of-type {\n",
       "        vertical-align: middle;\n",
       "    }\n",
       "\n",
       "    .dataframe tbody tr th {\n",
       "        vertical-align: top;\n",
       "    }\n",
       "\n",
       "    .dataframe thead th {\n",
       "        text-align: right;\n",
       "    }\n",
       "</style>\n",
       "<table border=\"1\" class=\"dataframe\">\n",
       "  <thead>\n",
       "    <tr style=\"text-align: right;\">\n",
       "      <th></th>\n",
       "      <th>knowledge_score</th>\n",
       "      <th>calcium_intake</th>\n",
       "    </tr>\n",
       "  </thead>\n",
       "  <tbody>\n",
       "    <tr>\n",
       "      <th>knowledge_score</th>\n",
       "      <td>1.000000</td>\n",
       "      <td>0.882255</td>\n",
       "    </tr>\n",
       "    <tr>\n",
       "      <th>calcium_intake</th>\n",
       "      <td>0.882255</td>\n",
       "      <td>1.000000</td>\n",
       "    </tr>\n",
       "  </tbody>\n",
       "</table>\n",
       "</div>"
      ],
      "text/plain": [
       "                 knowledge_score  calcium_intake\n",
       "knowledge_score         1.000000        0.882255\n",
       "calcium_intake          0.882255        1.000000"
      ]
     },
     "execution_count": 23,
     "metadata": {},
     "output_type": "execute_result"
    }
   ],
   "source": [
    "temp.corr()"
   ]
  },
  {
   "cell_type": "markdown",
   "id": "c34d1631-5732-4d9f-a266-8e5fba01461a",
   "metadata": {},
   "source": [
    "### 14. Giả sử có thể dựa trên knowledge_score có thể dự đoán được calcium_intake thì hãy quy thành phương trình y = mx + b (với y là calcium_intake và x là knowledge_score)."
   ]
  },
  {
   "cell_type": "code",
   "execution_count": 24,
   "id": "837aa47e-e808-4a2b-86d9-c839d7664cdc",
   "metadata": {
    "execution": {
     "iopub.execute_input": "2022-01-02T13:22:37.213153Z",
     "iopub.status.busy": "2022-01-02T13:22:37.212473Z",
     "iopub.status.idle": "2022-01-02T13:22:37.227013Z",
     "shell.execute_reply": "2022-01-02T13:22:37.225061Z",
     "shell.execute_reply.started": "2022-01-02T13:22:37.213114Z"
    },
    "tags": []
   },
   "outputs": [
    {
     "data": {
      "text/plain": [
       "array([1. , 4.2, 3.8, 1.5, 2.2])"
      ]
     },
     "execution_count": 24,
     "metadata": {},
     "output_type": "execute_result"
    }
   ],
   "source": [
    "X = canxi.knowledge_score.values\n",
    "X[0:5]"
   ]
  },
  {
   "cell_type": "code",
   "execution_count": 25,
   "id": "973cd6e9-33ff-47ca-bb46-2bc5b544581e",
   "metadata": {
    "execution": {
     "iopub.execute_input": "2022-01-02T13:22:37.229503Z",
     "iopub.status.busy": "2022-01-02T13:22:37.229082Z",
     "iopub.status.idle": "2022-01-02T13:22:37.236788Z",
     "shell.execute_reply": "2022-01-02T13:22:37.234123Z",
     "shell.execute_reply.started": "2022-01-02T13:22:37.229466Z"
    },
    "tags": []
   },
   "outputs": [],
   "source": [
    "Y = canxi.calcium_intake.values"
   ]
  },
  {
   "cell_type": "code",
   "execution_count": 26,
   "id": "6257224a-4d72-4583-aa1d-932e6242db46",
   "metadata": {
    "execution": {
     "iopub.execute_input": "2022-01-02T13:22:37.239428Z",
     "iopub.status.busy": "2022-01-02T13:22:37.239078Z",
     "iopub.status.idle": "2022-01-02T13:22:37.255126Z",
     "shell.execute_reply": "2022-01-02T13:22:37.254098Z",
     "shell.execute_reply.started": "2022-01-02T13:22:37.239394Z"
    },
    "tags": []
   },
   "outputs": [],
   "source": [
    "def gradient_descent_2(alpha, X, y, es):\n",
    "   \n",
    "    \n",
    "  \n",
    "    m = X.shape[0] # số dòng\n",
    "    X = np.c_[np.ones(m), X] # [[1 x0],[1 x1], [1  x2], ...]\n",
    "    theta = np.ones(2) # giả sử theta bắt đầu là: theta = [1, 1]\n",
    "    \n",
    "   \n",
    "    theta_lst = []\n",
    "    hypothesis = X.dot(theta) \n",
    "    loss = hypothesis - y\n",
    "    J = np.sum(loss ** 2) / (2 * m)\n",
    "    \n",
    "    while J > es:        \n",
    "        # hypothesis = theta0 + theta1.x\n",
    "        hypothesis = X.dot(theta) \n",
    "        loss = hypothesis - y \n",
    "        \n",
    "        J = np.sum(loss ** 2) / (2 * m)  # J là hàm chi phí bình phương tối thiểu (squares cost function)\n",
    "        theta0_prime = np.sum(loss)/m # tính đạo hàm theo theta0\n",
    "        theta1_prime = np.sum(loss * X[:,1])/m # tính đạo hàm theo theta1\n",
    "         \n",
    "        gradient = np.array([theta0_prime, theta1_prime])\n",
    "        theta = theta - alpha * gradient  # di chuyển đến gần điểm cực tiểu địa phương\n",
    "        theta_lst.append(theta)\n",
    "        \n",
    "    return pd.DataFrame({'theta':theta_lst})"
   ]
  },
  {
   "cell_type": "code",
   "execution_count": 27,
   "id": "ddb9ec50-afd8-42e0-bb58-629b79da7bc0",
   "metadata": {
    "execution": {
     "iopub.execute_input": "2022-01-02T13:22:37.262439Z",
     "iopub.status.busy": "2022-01-02T13:22:37.256946Z",
     "iopub.status.idle": "2022-01-02T13:22:37.267867Z",
     "shell.execute_reply": "2022-01-02T13:22:37.267097Z",
     "shell.execute_reply.started": "2022-01-02T13:22:37.262358Z"
    },
    "tags": []
   },
   "outputs": [],
   "source": [
    "from scipy.linalg import inv"
   ]
  },
  {
   "cell_type": "code",
   "execution_count": 28,
   "id": "6fea2445-88a7-445e-bb69-5b707d3fe9c1",
   "metadata": {
    "execution": {
     "iopub.execute_input": "2022-01-02T13:22:37.270070Z",
     "iopub.status.busy": "2022-01-02T13:22:37.269655Z",
     "iopub.status.idle": "2022-01-02T13:22:38.928426Z",
     "shell.execute_reply": "2022-01-02T13:22:38.926457Z",
     "shell.execute_reply.started": "2022-01-02T13:22:37.270029Z"
    },
    "tags": []
   },
   "outputs": [],
   "source": [
    "theta = gradient_descent_2(1e-4, X, Y, 0.005).iloc[-1,0]"
   ]
  },
  {
   "cell_type": "code",
   "execution_count": 29,
   "id": "3bbcd9da-d65e-4387-8e9f-f31efed83d99",
   "metadata": {
    "execution": {
     "iopub.execute_input": "2022-01-02T13:22:38.930485Z",
     "iopub.status.busy": "2022-01-02T13:22:38.929976Z",
     "iopub.status.idle": "2022-01-02T13:22:38.943345Z",
     "shell.execute_reply": "2022-01-02T13:22:38.942320Z",
     "shell.execute_reply.started": "2022-01-02T13:22:38.930442Z"
    },
    "tags": []
   },
   "outputs": [
    {
     "data": {
      "text/plain": [
       "array([0.63497403, 0.91083396, 0.87635147, 0.67807715, 0.73842151,\n",
       "       0.82462774, 0.89359272, 0.66945652, 0.772904  , 0.82462774,\n",
       "       0.87635147, 0.76428338, 0.9625577 , 0.79014524, 0.73842151,\n",
       "       0.93669583, 0.70393902, 0.75566275, 0.80738649, 0.91945459])"
      ]
     },
     "execution_count": 29,
     "metadata": {},
     "output_type": "execute_result"
    }
   ],
   "source": [
    "Y_0 = np.c_[np.ones(len(X)), X].dot(np.array([theta[0], theta[1]]))\n",
    "Y_0"
   ]
  },
  {
   "cell_type": "code",
   "execution_count": 30,
   "id": "349007cb-1891-4c7c-b442-82c88b4df280",
   "metadata": {
    "execution": {
     "iopub.execute_input": "2022-01-02T13:22:38.948585Z",
     "iopub.status.busy": "2022-01-02T13:22:38.948153Z",
     "iopub.status.idle": "2022-01-02T13:22:39.157356Z",
     "shell.execute_reply": "2022-01-02T13:22:39.156247Z",
     "shell.execute_reply.started": "2022-01-02T13:22:38.948547Z"
    },
    "tags": []
   },
   "outputs": [
    {
     "data": {
      "image/png": "[encoded data removed]",
      "text/plain": [
       "<Figure size 432x288 with 1 Axes>"
      ]
     },
     "metadata": {
      "needs_background": "light"
     },
     "output_type": "display_data"
    }
   ],
   "source": [
    "plt.plot(X, Y_0)\n",
    "plt.scatter(X,Y)\n",
    "plt.show()"
   ]
  },
  {
   "cell_type": "code",
   "execution_count": 31,
   "id": "5ece1384-60c5-4440-aaf4-ceb0381b8075",
   "metadata": {
    "execution": {
     "iopub.execute_input": "2022-01-02T13:22:39.161162Z",
     "iopub.status.busy": "2022-01-02T13:22:39.160776Z",
     "iopub.status.idle": "2022-01-02T13:22:39.171490Z",
     "shell.execute_reply": "2022-01-02T13:22:39.167614Z",
     "shell.execute_reply.started": "2022-01-02T13:22:39.161134Z"
    },
    "tags": []
   },
   "outputs": [
    {
     "data": {
      "text/plain": [
       "array([[1. , 2. ],\n",
       "       [1. , 2.7],\n",
       "       [1. , 3.5],\n",
       "       [1. , 4.4]])"
      ]
     },
     "execution_count": 31,
     "metadata": {},
     "output_type": "execute_result"
    }
   ],
   "source": [
    "# Cho knowledge_score lần lượt là 2.0, 2.7, 3.5, 4.4 thì calcium_intake lần lượt là bao nhiêu?\n",
    "x = np.array([2.0, 2.7, 3.5, 4.4])\n",
    "x = np.c_[np.ones(len(x)), x]\n",
    "x"
   ]
  },
  {
   "cell_type": "code",
   "execution_count": 32,
   "id": "04ed7752-464e-4ce7-bbf5-fc8ec38375f9",
   "metadata": {
    "execution": {
     "iopub.execute_input": "2022-01-02T13:22:39.177224Z",
     "iopub.status.busy": "2022-01-02T13:22:39.176776Z",
     "iopub.status.idle": "2022-01-02T13:22:39.187558Z",
     "shell.execute_reply": "2022-01-02T13:22:39.186157Z",
     "shell.execute_reply.started": "2022-01-02T13:22:39.177182Z"
    },
    "tags": []
   },
   "outputs": [
    {
     "data": {
      "text/plain": [
       "array([0.72118026, 0.78152462, 0.8504896 , 0.92807521])"
      ]
     },
     "execution_count": 32,
     "metadata": {},
     "output_type": "execute_result"
    }
   ],
   "source": [
    "y = x.dot(np.array([theta[0], theta[1]]))\n",
    "y"
   ]
  },
  {
   "cell_type": "code",
   "execution_count": 37,
   "id": "104fa7fd-6f34-406e-bfca-97e9f58095b1",
   "metadata": {
    "execution": {
     "iopub.execute_input": "2022-01-02T13:28:15.611974Z",
     "iopub.status.busy": "2022-01-02T13:28:15.611729Z",
     "iopub.status.idle": "2022-01-02T13:28:15.867681Z",
     "shell.execute_reply": "2022-01-02T13:28:15.866848Z",
     "shell.execute_reply.started": "2022-01-02T13:28:15.611950Z"
    },
    "tags": []
   },
   "outputs": [
    {
     "data": {
      "image/png": "[encoded data removed]",
      "text/plain": [
       "<Figure size 432x288 with 1 Axes>"
      ]
     },
     "metadata": {
      "needs_background": "light"
     },
     "output_type": "display_data"
    }
   ],
   "source": [
    "plt.scatter(X, Y, marker='*', label='Data')\n",
    "plt.scatter(x[:,1],y , label='Dự đoán')\n",
    "plt.legend()\n",
    "plt.show()"
   ]
  },
  {
   "cell_type": "code",
   "execution_count": null,
   "id": "40e8e31f-850e-4fe3-98e9-bd8d4917f7da",
   "metadata": {},
   "outputs": [],
   "source": []
  }
 ],
 "metadata": {
  "kernelspec": {
   "display_name": "Python 3 (ipykernel)",
   "language": "python",
   "name": "python3"
  },
  "language_info": {
   "codemirror_mode": {
    "name": "ipython",
    "version": 3
   },
   "file_extension": ".py",
   "mimetype": "text/x-python",
   "name": "python",
   "nbconvert_exporter": "python",
   "pygments_lexer": "ipython3",
   "version": "3.9.13"
  }
 },
 "nbformat": 4,
 "nbformat_minor": 5
}
